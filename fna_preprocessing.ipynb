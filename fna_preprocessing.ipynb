{
 "cells": [
  {
   "cell_type": "code",
   "execution_count": 2,
   "metadata": {},
   "outputs": [],
   "source": [
    "import os\n",
    "import shutil"
   ]
  },
  {
   "cell_type": "code",
   "execution_count": 3,
   "metadata": {},
   "outputs": [
    {
     "name": "stdout",
     "output_type": "stream",
     "text": [
      "Moved: GCA_000280925.3_ASM28092v3_genomic.fna -> GCA_000280925.3_ASM28092v3_genomic.fna.fna in 'fna' folder\n",
      "Moved: GCA_000331735.1_ASM33173v1_genomic.fna -> GCA_000331735.fna in 'fna' folder\n",
      "Moved: GCA_000280925.3_ASM28092v3_genomic.fna.fna -> GCA_000280925.3_ASM28092v3_genomic.fna.fna.fna in 'fna' folder\n",
      "Moved: GCA_000331735.fna -> GCA_000331735.fna.fna in 'fna' folder\n",
      "Moved: GCA_000012685.1_ASM1268v1_genomic.fna -> GCA_000012685.fna in 'fna' folder\n",
      "Moved: GCA_029531655.1_ASM2953165v1_genomic.fna -> GCA_029531655.fna in 'fna' folder\n",
      "Moved: GCA_022814725.1_ASM2281472v1_genomic.fna -> GCA_022814725.fna in 'fna' folder\n",
      "Moved: GCA_000196175.1_ASM19617v1_genomic.fna -> GCA_000196175.fna in 'fna' folder\n"
     ]
    }
   ],
   "source": [
    "base_dir = \"/Users/jpiglesias/Documents/UNAM/TESIS/outgroup_dataset/ncbi_dataset/data/\"\n",
    "fna_directory = \"/Users/jpiglesias/Documents/UNAM/TESIS/outgroup_dataset/ncbi_dataset/data/fna/\"\n",
    "\n",
    "\n",
    "for folder in os.listdir(base_dir):\n",
    "    folder_path = os.path.join(base_dir, folder)\n",
    "\n",
    "    if os.path.isdir(folder_path):\n",
    "        for file in os.listdir(folder_path):\n",
    "            if file.endswith(\".fna\"):\n",
    "                new_name = file.split(\".1_\")[0] + \".fna\" # rename\n",
    "\n",
    "                old_path = os.path.join(folder_path, file)\n",
    "                new_path = os.path.join(fna_directory, new_name)\n",
    "\n",
    "                shutil.move(old_path, new_path) # moves file\n",
    "                print(f\"Moved: {file} -> {new_name} in 'fna' folder\")"
   ]
  },
  {
   "cell_type": "code",
   "execution_count": 1,
   "metadata": {},
   "outputs": [
    {
     "name": "stdout",
     "output_type": "stream",
     "text": [
      "Intel MKL WARNING: Support of Intel(R) Streaming SIMD Extensions 4.2 (Intel(R) SSE4.2) enabled only processors has been deprecated. Intel oneAPI Math Kernel Library 2025.0 will require Intel(R) Advanced Vector Extensions (Intel(R) AVX) instructions.\n",
      "Intel MKL WARNING: Support of Intel(R) Streaming SIMD Extensions 4.2 (Intel(R) SSE4.2) enabled only processors has been deprecated. Intel oneAPI Math Kernel Library 2025.0 will require Intel(R) Advanced Vector Extensions (Intel(R) AVX) instructions.\n"
     ]
    }
   ],
   "source": [
    "from Bio import SeqIO\n",
    "from Bio.Seq import Seq\n",
    "from Bio.SeqRecord import SeqRecord"
   ]
  },
  {
   "cell_type": "code",
   "execution_count": null,
   "metadata": {},
   "outputs": [],
   "source": [
    "for fna_file in os.listdir(fna_directory):\n",
    "    if fna_file.endswith(\".fna\"):\n",
    "        file_path = os.path.join(fna_directory, fna_file)\n",
    "        \n",
    "        # Extract base name for the new header (filename without extension)\n",
    "        base_name = os.path.basename(file_path).replace('.fna', '')\n",
    "    \n",
    "        # Concatenate all sequences from the file\n",
    "        combined_sequence = ''.join(str(record.seq) for record in SeqIO.parse(file_path, \"fasta\"))\n",
    "    \n",
    "        # Create a new SeqRecord with the combined sequence and the new header\n",
    "        new_record = SeqRecord(Seq(combined_sequence), id=base_name, description=\"\")\n",
    "    \n",
    "        # Overwrite the original file with the renamed single contig\n",
    "        SeqIO.write(new_record, file_path, \"fasta\")\n",
    "    \n",
    "        print(f\"Processed: {os.path.basename(file_path)} -> New header: {base_name}\")\n",
    "\n",
    "        print(f\"File {fna_file} processed.\")"
   ]
  }
 ],
 "metadata": {
  "kernelspec": {
   "display_name": "Pandas24",
   "language": "python",
   "name": "python3"
  },
  "language_info": {
   "codemirror_mode": {
    "name": "ipython",
    "version": 3
   },
   "file_extension": ".py",
   "mimetype": "text/x-python",
   "name": "python",
   "nbconvert_exporter": "python",
   "pygments_lexer": "ipython3",
   "version": "3.9.18"
  }
 },
 "nbformat": 4,
 "nbformat_minor": 2
}
